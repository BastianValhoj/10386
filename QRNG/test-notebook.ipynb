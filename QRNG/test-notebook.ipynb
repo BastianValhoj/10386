{
 "cells": [
  {
   "cell_type": "code",
   "execution_count": 1,
   "id": "e24e3ae6",
   "metadata": {},
   "outputs": [],
   "source": [
    "import pyvisa"
   ]
  },
  {
   "cell_type": "code",
   "execution_count": null,
   "id": "d0b8d022",
   "metadata": {},
   "outputs": [
    {
     "name": "stdout",
     "output_type": "stream",
     "text": [
      "Resource Manager of Visa Library at C:\\WINDOWS\\system32\\visa32.dll\n",
      "Resources :  ('USB0::0x2A8D::0x1766::MY56311274::INSTR', 'ASRL3::INSTR', 'ASRL4::INSTR')\n"
     ]
    },
    {
     "ename": "ValueError",
     "evalue": "too many values to unpack (expected 3)",
     "output_type": "error",
     "traceback": [
      "\u001b[31m---------------------------------------------------------------------------\u001b[39m",
      "\u001b[31mValueError\u001b[39m                                Traceback (most recent call last)",
      "\u001b[36mCell\u001b[39m\u001b[36m \u001b[39m\u001b[32mIn[9]\u001b[39m\u001b[32m, line 5\u001b[39m\n\u001b[32m      3\u001b[39m instrument = rm.open_resource(res[\u001b[32m0\u001b[39m]) \u001b[38;5;66;03m# In my case the index 0 is the USB device\u001b[39;00m\n\u001b[32m      4\u001b[39m device = instrument.query(\u001b[33m\"\u001b[39m\u001b[33m*IDN?\u001b[39m\u001b[33m\"\u001b[39m) \u001b[38;5;66;03m# see what the device name is\u001b[39;00m\n\u001b[32m----> \u001b[39m\u001b[32m5\u001b[39m brand, model, sn, = instrument.query(\u001b[33m\"\u001b[39m\u001b[33m*IDN?\u001b[39m\u001b[33m\"\u001b[39m)\n\u001b[32m      6\u001b[39m \u001b[38;5;28mprint\u001b[39m(\u001b[33mf\u001b[39m\u001b[33m\"\u001b[39m\u001b[33m        Brand : \u001b[39m\u001b[38;5;132;01m{\u001b[39;00mbrand\u001b[38;5;132;01m}\u001b[39;00m\u001b[33m\"\u001b[39m,\n\u001b[32m      7\u001b[39m       \u001b[33mf\u001b[39m\u001b[33m\"\u001b[39m\u001b[33m        Model : \u001b[39m\u001b[38;5;132;01m{\u001b[39;00mmodel\u001b[38;5;132;01m}\u001b[39;00m\u001b[33m\"\u001b[39m,\n\u001b[32m      8\u001b[39m       \u001b[33mf\u001b[39m\u001b[33m\"\u001b[39m\u001b[33mSerial/Number : \u001b[39m\u001b[38;5;132;01m{\u001b[39;00msn\u001b[38;5;132;01m}\u001b[39;00m\u001b[33m\"\u001b[39m\n\u001b[32m      9\u001b[39m       )\n",
      "\u001b[31mValueError\u001b[39m: too many values to unpack (expected 3)"
     ]
    }
   ],
   "source": [
    "rm = pyvisa.ResourceManager(); print(rm) # see directory for reource manager (?)\n",
    "res = rm.list_resources(); print(\"Resources : \", res) # See which resources are available (USB etc.)\n",
    "instrument = rm.open_resource(res[0]) # In my case the index 0 is the USB device\n",
    "device = instrument.query(\"*IDN?\") # see what the device name is\n",
    "brand, model, sn, = instrument.query(\"*IDN?\").split(\",\")\n",
    "print(f\"        Brand : {brand}\",\n",
    "      f\"        Model : {model}\",\n",
    "      f\"Serial/Number : {sn}\"\n",
    "      )"
   ]
  },
  {
   "cell_type": "code",
   "execution_count": null,
   "id": "5f841eed",
   "metadata": {},
   "outputs": [
    {
     "data": {
      "text/plain": [
       "'USB0::0x2A8D::0x1766::MY56311274::INSTR'"
      ]
     },
     "execution_count": 10,
     "metadata": {},
     "output_type": "execute_result"
    }
   ],
   "source": []
  },
  {
   "cell_type": "code",
   "execution_count": null,
   "id": "ab878eec",
   "metadata": {},
   "outputs": [
    {
     "data": {
      "text/plain": [
       "'KEYSIGHT TECHNOLOGIES,DSO-X 3024T,MY56311274,07.20.2017102614\\n'"
      ]
     },
     "execution_count": 21,
     "metadata": {},
     "output_type": "execute_result"
    }
   ],
   "source": []
  },
  {
   "cell_type": "code",
   "execution_count": null,
   "id": "24290f95",
   "metadata": {},
   "outputs": [],
   "source": []
  }
 ],
 "metadata": {
  "kernelspec": {
   "display_name": "lab",
   "language": "python",
   "name": "python3"
  },
  "language_info": {
   "codemirror_mode": {
    "name": "ipython",
    "version": 3
   },
   "file_extension": ".py",
   "mimetype": "text/x-python",
   "name": "python",
   "nbconvert_exporter": "python",
   "pygments_lexer": "ipython3",
   "version": "3.12.11"
  }
 },
 "nbformat": 4,
 "nbformat_minor": 5
}
