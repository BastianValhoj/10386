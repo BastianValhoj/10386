{
 "cells": [
  {
   "cell_type": "code",
   "execution_count": 229,
   "id": "e24e3ae6",
   "metadata": {},
   "outputs": [],
   "source": [
    "import pyvisa\n",
    "import time\n",
    "import numpy as np\n",
    "import matplotlib.pyplot as plt"
   ]
  },
  {
   "cell_type": "code",
   "execution_count": 230,
   "id": "d0b8d022",
   "metadata": {},
   "outputs": [
    {
     "name": "stdout",
     "output_type": "stream",
     "text": [
      "Resource Manager of Visa Library at C:\\WINDOWS\\system32\\visa32.dll\n",
      "Resources :  ('USB0::0x2A8D::0x1766::MY56311274::INSTR', 'ASRL3::INSTR', 'ASRL4::INSTR')\n"
     ]
    }
   ],
   "source": [
    "rm = pyvisa.ResourceManager(); print(rm) # see directory for reource manager (?)\n",
    "res = rm.list_resources(); print(\"Resources : \", res) # See which resources are available (USB etc.)\n",
    "USB_resource = res[0]\n",
    "inst = rm.open_resource(USB_resource) # In my case the index 0 is the USB device\n",
    "device = inst.query(\"*IDN?\") # Then, you query the device with the following message: '\\*IDN?'. Which is the standard GPIB message for “what are you?”"
   ]
  },
  {
   "cell_type": "code",
   "execution_count": 231,
   "id": "4e59e2e4",
   "metadata": {},
   "outputs": [],
   "source": [
    "\n",
    "def device_info(instrument):\n",
    "    \"\"\"\n",
    "    Queries and prints information about the connected instrument.\n",
    "\n",
    "    Args:\n",
    "        instrument (pyvisa.resources.Resource): The PyVISA instrument object.\n",
    "    \"\"\"\n",
    "    device = instrument.query('*IDN?')\n",
    "    brand, model, SN, info = device.split(',')\n",
    "    print(f\"Connected to :\")\n",
    "    print(f\"        Brand : {brand}\")\n",
    "    print(f\"        Model : {model}\")\n",
    "    print(f\"Serial/Number : {SN},  {info}\")"
   ]
  },
  {
   "cell_type": "code",
   "execution_count": 232,
   "id": "e771c96c",
   "metadata": {},
   "outputs": [
    {
     "name": "stdout",
     "output_type": "stream",
     "text": [
      "Connected to :\n",
      "        Brand : KEYSIGHT TECHNOLOGIES\n",
      "        Model : DSO-X 3024T\n",
      "Serial/Number : MY56311274,  07.20.2017102614\n",
      "\n"
     ]
    }
   ],
   "source": [
    "device_info(inst)"
   ]
  },
  {
   "cell_type": "code",
   "execution_count": 227,
   "id": "57314721",
   "metadata": {},
   "outputs": [],
   "source": [
    "def scope_settings(scope, which=\"acq\"):\n",
    "    \"\"\"\n",
    "    Applies general scope settings like waveform intensity, channel scale,\n",
    "    impedance, and offset.\n",
    "\n",
    "    Args:\n",
    "        scope (pyvisa.resources.Resource): The PyVISA instrument object for the oscilloscope.\n",
    "        which (str, optional): Determines offset setting. \"acq\" for 0V offset,\n",
    "                                \"display\" or \"disp\" for pre-defined offsets. Defaults to \"acq\".\n",
    "    Raises:\n",
    "        ValueError: If 'which' argument is not 'acq' or 'disp'.\n",
    "    \"\"\"\n",
    "    scope.write(\":DISPlay:INTensity:WAVeform 90\") # how visible is the ave on oscilloscope\n",
    "    for channel, offset in zip(range(1,4), [-6, 0, 6]):\n",
    "        scope.write(f\":CHANnel{channel}:SCALe 5 V\") # Scale amplitude\n",
    "        scope.write(f\":CHANnel{channel}:IMPedance FIFTY\") # Set impedance 'FIFTY' for 50 Ohm, or ONEM for 1 mega Ohm\n",
    "\n",
    "        # Set offsets\n",
    "        if which == \"acq\":\n",
    "            scope.write(f\":CHANnel{channel}:OFFset 0 V\")\n",
    "        elif which == \"display\" or which ==\"disp\":\n",
    "            scope.write(f\":CHANnel{channel}:OFFset {offset}\")\n",
    "        else:\n",
    "            raise ValueError(f\"    arg 'wich' has to be   'acq'  for acquire, or  'disp'  for display\")"
   ]
  },
  {
   "cell_type": "code",
   "execution_count": 453,
   "id": "0764f989",
   "metadata": {},
   "outputs": [
    {
     "name": "stdout",
     "output_type": "stream",
     "text": [
      "Attempting to connect to: USB0::0x2A8D::0x1766::MY56311274::INSTR\n",
      "Connected to :\n",
      "        Brand : KEYSIGHT TECHNOLOGIES\n",
      "        Model : DSO-X 3024T\n",
      "Serial/Number : MY56311274,  07.20.2017102614\n",
      "\n",
      "Setting Timebase Scale to: 1.00e-06 s/div.\n",
      "\n",
      "Oscilloscope configured. Waiting for trigger for single acquisition...\n",
      "Waiting for acquisition to complete...\n",
      "Single acquisition complete. Oscilloscope is stopped and holding data.\n",
      "\n",
      "  Extracting data from CHANnel1...\n",
      "    Preamble for CHANnel1: ['+1', '+0', '+25000', '+1', '+4.00000000E-010', '-5.00000000E-006', '+0', '+7.85175900E-004', '+0.0E+000', '+32768\\n']\n",
      "    Actual Acq: N_pts=25000, Xinc=4.00e-10s, Yinc=7.85e-04V\n",
      "                Xorig=-5.00e-06, Yorig=0.00e+00\n",
      "    Raw data points extracted from CHANnel1: 25000\n",
      "\n",
      "  Extracting data from CHANnel2...\n",
      "    Preamble for CHANnel2: ['+1', '+0', '+25000', '+1', '+4.00000000E-010', '-5.00000000E-006', '+0', '+7.85175900E-004', '+0.0E+000', '+32768\\n']\n",
      "    Actual Acq: N_pts=25000, Xinc=4.00e-10s, Yinc=7.85e-04V\n",
      "                Xorig=-5.00e-06, Yorig=0.00e+00\n",
      "    Raw data points extracted from CHANnel2: 25000\n",
      "\n",
      "  Extracting data from CHANnel3...\n",
      "    Preamble for CHANnel3: ['+1', '+0', '+25000', '+1', '+4.00000000E-010', '-5.00000000E-006', '+0', '+7.85175900E-004', '+0.0E+000', '+32768\\n']\n",
      "    Actual Acq: N_pts=25000, Xinc=4.00e-10s, Yinc=7.85e-04V\n",
      "                Xorig=-5.00e-06, Yorig=0.00e+00\n",
      "    Raw data points extracted from CHANnel3: 25000\n",
      "\n",
      "Connection closed.\n"
     ]
    }
   ],
   "source": [
    "def acq_data(resource_name, timebase_scale = 100e-6, datatype=\"16bit\"):\n",
    "    \"\"\"\n",
    "    Connects to the oscilloscope, configures it for a single acquisition\n",
    "    by setting the specified timebase scale, and then extracts waveform data\n",
    "    from three specified channels.\n",
    "\n",
    "    Args:\n",
    "        resource_name (str): The VISA address of the oscilloscope.\n",
    "        timebase_scale (float): The horizontal scale in seconds per division (s/div) [default: 100e-6s].\n",
    "\n",
    "    Returns:\n",
    "        dict: A dictionary where keys are channel names ('CHANnel1', 'CHANnel2', 'CHANnel3')\n",
    "              and values are dictionaries containing 'raw_data', 'voltages', 'times',\n",
    "              and 'preamble' information for that channel.\n",
    "              Returns an empty dictionary if connection or acquisition fails.\n",
    "    \"\"\"\n",
    "    \n",
    "    assert datatype in [\"8bit\", \"16bit\", \"ascii\", \"ASCII\"], f\"Datatype has to be one of  ['8bit', '16bit', 'ascii']  You used  {datatype}\"\n",
    "    IS_BIG_ENDIAN = False\n",
    "    if datatype == \"8bit\":\n",
    "        FORMAT = \"BYTE\"\n",
    "        DATATYPE = \"b\"\n",
    "    elif datatype == \"16bit\":\n",
    "        FORMAT = \"WORD\"\n",
    "        IS_BIG_ENDIAN = True\n",
    "        DATATYPE = \"h\"\n",
    "    elif datatype.lower() == \"ascii\":\n",
    "        FORMAT = \"ASCii\"\n",
    "        DATATYPE = \"f\"\n",
    "    else:\n",
    "        print(f\"Unkown datatype supplied : {datatype}\")\n",
    "    rm = None\n",
    "    scope = None\n",
    "    acquired_data = {}\n",
    "    \n",
    "    # Define the channels to read directly within the function\n",
    "    CHANNELS_TO_READ = [\"CHANnel1\", \"CHANnel2\", \"CHANnel3\"] \n",
    "    \n",
    "    try:\n",
    "        rm = pyvisa.ResourceManager()\n",
    "        print(f\"Attempting to connect to: {resource_name}\")\n",
    "        scope = rm.open_resource(resource_name)\n",
    "        \n",
    "        device_info(scope) # Call user's device_info function\n",
    "        \n",
    "        # scope.write(\":AUToscale\")\n",
    "        scope.write(\"*CLS\") # Clear any previous errors\n",
    "        time.sleep(0.1)\n",
    "        scope.write(\":STOP\") # Ensure scope is stopped before configuration\n",
    "        time.sleep(0.1)\n",
    "        \n",
    "        scope_settings(scope, which=\"acq\") # Call user's scope_settings function for acquisition settings\n",
    "        \n",
    "        # --- Configure Waveform Transfer ---\n",
    "        scope.write(f\":WAVeform:FORMat {FORMAT}\")\n",
    "        \n",
    "        # --- Set Timebase Scale (from argument) ---\n",
    "        print(f\"Setting Timebase Scale to: {timebase_scale:.2e} s/div.\")\n",
    "        scope.write(f\":TIMebase:SCALe {timebase_scale}\") # Set horizontal scale based on argument\n",
    "        \n",
    "         # Configure Trigger as per your provided snippet\n",
    "        scope.write(\":TRIGger:SOURce CHANnel3\") # Heralding signal\n",
    "        scope.write(\":TRIGger:LEVel 2 V\") # Trigger voltage\n",
    "        scope.write(\":TRIGger:EDGE:SLOPe POSitive\") # Positive or negative slope\n",
    "        \n",
    "        # Set to SINGLE trigger mode: Acquire one waveform and then stop.\n",
    "        scope.write(\":TRIGger:MODE SINGle\") \n",
    "        scope.write(\":ACQuire:TYPE NORMal\") # Set acquisition type to normal\n",
    "\n",
    "        print(\"\\nOscilloscope configured. Waiting for trigger for single acquisition...\")\n",
    "        \n",
    "        # Arm the single acquisition\n",
    "        scope.write(\":SINGle\")\n",
    "        \n",
    "        # Wait for the acquisition to complete.\n",
    "        # `*OPC?` ensures the previous command (single acquisition) is fully done.\n",
    "        print(\"Waiting for acquisition to complete...\")\n",
    "        scope.query(\"*OPC?\") \n",
    "        print(\"Single acquisition complete. Oscilloscope is stopped and holding data.\")\n",
    "        \n",
    "        \n",
    "        # --- Oscilloscope is now stopped and holding the \"screenshot\" data ---\n",
    "        # --- Extract Data from all channels ---\n",
    "        acquired_data = {}\n",
    "        for channel in CHANNELS_TO_READ:\n",
    "            print(f\"\\n  Extracting data from {channel}...\")\n",
    "            scope.write(f\":WAVeform:SOURce {channel}\")\n",
    "            time.sleep(0.05) # Give the scope a moment to switch channels context\n",
    "\n",
    "            # Query preamble for the current channel\n",
    "            # This preamble reflects the *actual* acquisition settings (sample rate, record length, etc.)\n",
    "            preamble_string = scope.query(\":WAVeform:PREamble?\")\n",
    "            preamble_list = preamble_string.split(',')    \n",
    "            print(f\"    Preamble for {channel}: {preamble_list}\") # Print the list for inspection\n",
    "\n",
    "            try:\n",
    "                num_points_actual = int(preamble_list[2])      # Total number of points acquired\n",
    "                x_increment_actual = float(preamble_list[4]) # Actual time per point (1/SampleRate_Actual)\n",
    "                x_origin_actual = float(preamble_list[5])    # Start time of the waveform\n",
    "                y_increment_actual = float(preamble_list[7]) # Volts per raw data unit\n",
    "                y_origin_actual = float(preamble_list[8])    # Vertical offset in Volts\n",
    "                y_reference_actual = float(preamble_list[9]) # Vertical reference in raw units\n",
    "                print(f\"    Actual Acq: N_pts={num_points_actual}, Xinc={x_increment_actual:.2e}s, Yinc={y_increment_actual:.2e}V\")\n",
    "                print(f\"                Xorig={x_origin_actual:.2e}, Yorig={y_origin_actual:.2e}\")\n",
    "            except (IndexError, ValueError) as e:\n",
    "                print(f\"    ERROR: Failed to parse preamble for {channel}. Check manual and its structure. {e}\")\n",
    "                raise # Critical error, cannot interpret data without this\n",
    "            \n",
    "            # Read raw binary waveform data for the entire record\n",
    "            raw_data = scope.query_binary_values(\n",
    "                \":WAVeform:DATA?\",\n",
    "                datatype=DATATYPE,\n",
    "                container=np.array,\n",
    "                is_big_endian=IS_BIG_ENDIAN # True if using :WAVeform:FORMat WORD\n",
    "            )\n",
    "            scope.query(\"*OPC?\") \n",
    "            \n",
    "            print(f\"    Raw data points extracted from {channel}: {len(raw_data)}\")\n",
    "\n",
    "            if len(raw_data) == 0:\n",
    "                print(f\"    WARNING: No data received from {channel}. Check acquisition and trigger settings.\")\n",
    "                continue # Skip processing for this channel if no data\n",
    "                \n",
    "            # Convert raw data to actual voltage values\n",
    "            voltages = y_origin_actual + np.abs(raw_data - y_reference_actual)*y_increment_actual \n",
    "\n",
    "            # Create the time axis for this waveform\n",
    "            times = x_origin_actual + np.arange(0, len(voltages))*x_increment_actual\n",
    "\n",
    "            acquired_data[channel] = {\n",
    "                'raw_data': raw_data,\n",
    "                'voltages': voltages,\n",
    "                'times': times,\n",
    "                'preamble': {\n",
    "                    'num_points': num_points_actual,\n",
    "                    'x_increment': x_increment_actual,\n",
    "                    'x_origin': x_origin_actual,\n",
    "                    'y_increment': y_increment_actual,\n",
    "                    'y_origin': y_origin_actual,\n",
    "                    'y_reference': y_reference_actual\n",
    "                }\n",
    "            }\n",
    "    \n",
    "        \n",
    "    except pyvisa.errors.VisaIOError as e:\n",
    "        print(f\"\\nVISA Error: {e}\")\n",
    "        print(\"Please check connection and settings. Common issues:\")\n",
    "        print(\"  - Oscilloscope is not connected or powered on.\")\n",
    "        print(\"  - 'OSCILLOSCOPE_VISA_ADDRESS' is incorrect. Use 'rm.list_resources()' to verify.\")\n",
    "        print(\"  - VISA backend (NI-VISA, pyvisa-py) is not installed or configured.\")\n",
    "        print(\"  - The command to query memory depth might be incorrect for your scope.\")\n",
    "        print(\"  - The desired sample rate might be too high for the scope's capabilities.\")\n",
    "    except Exception as e:\n",
    "        print(f\"\\nAn unexpected error occurred: {e}\")\n",
    "    finally:\n",
    "        if scope and scope.session:\n",
    "            # time.sleep(10)\n",
    "            scope_settings(scope, which=\"display\") # Call user's scope_settings function for acquisition settings\n",
    "\n",
    "            scope.write(\":RUN\") # Return to run mode for live viewing\n",
    "            scope.close()\n",
    "            print(\"\\nConnection closed.\")\n",
    "        \n",
    "    return acquired_data\n",
    "test = acq_data(USB_resource, timebase_scale=1e-6, datatype=\"16bit\")"
   ]
  },
  {
   "cell_type": "code",
   "execution_count": 454,
   "id": "a2122932",
   "metadata": {},
   "outputs": [
    {
     "name": "stdout",
     "output_type": "stream",
     "text": [
      "CHANnel1\n",
      "CHANnel2\n",
      "CHANnel3\n",
      "\traw_data\n",
      "\tvoltages\n",
      "\ttimes\n",
      "\tpreamble\n",
      "        ch1[\"voltages\"].shape = (25000,)\n",
      "ch1[\"preamble\"][\"num_points\"] = 25000\n",
      "        ch2[\"voltages\"].shape = (25000,)\n",
      "ch2[\"preamble\"][\"num_points\"] = 25000\n",
      "        ch3[\"voltages\"].shape = (25000,)\n",
      "ch3[\"preamble\"][\"num_points\"] = 25000\n"
     ]
    }
   ],
   "source": [
    "for key in test:\n",
    "    print(key)\n",
    "for key in test[\"CHANnel1\"]:\n",
    "    print(\"\\t%s\" % key)\n",
    "ch1 = test[\"CHANnel1\"]\n",
    "ch2 = test[\"CHANnel2\"]\n",
    "ch3 = test[\"CHANnel3\"]\n",
    "vol1 = ch1[\"voltages\"]\n",
    "tim1 = ch1[\"times\"]\n",
    "pre1 = ch1[\"preamble\"]\n",
    "\n",
    "print(f\"        {ch1[\"voltages\"].shape = }\")\n",
    "print(f\"{ch1[\"preamble\"][\"num_points\"] = }\")\n",
    "print(f\"        {ch2[\"voltages\"].shape = }\")\n",
    "print(f\"{ch2[\"preamble\"][\"num_points\"] = }\")\n",
    "print(f\"        {ch3[\"voltages\"].shape = }\")\n",
    "print(f\"{ch3[\"preamble\"][\"num_points\"] = }\")"
   ]
  },
  {
   "cell_type": "code",
   "execution_count": 455,
   "id": "9facbec9",
   "metadata": {},
   "outputs": [
    {
     "data": {
      "text/plain": [
       "array([32512., 32256., 32256., ..., 32256., 32256., 32256.],\n",
       "      shape=(25000,), dtype=float16)"
      ]
     },
     "execution_count": 455,
     "metadata": {},
     "output_type": "execute_result"
    }
   ],
   "source": [
    "np.array(ch3[\"raw_data\"], dtype=np.float16)"
   ]
  },
  {
   "cell_type": "code",
   "execution_count": 456,
   "id": "e6a2b7e1",
   "metadata": {},
   "outputs": [],
   "source": [
    "ch3 = test[\"CHANnel3\"]\n",
    "vol3 = ch3[\"voltages\"]\n",
    "tim3 = ch3[\"times\"]"
   ]
  },
  {
   "cell_type": "code",
   "execution_count": 464,
   "id": "68240ad4",
   "metadata": {},
   "outputs": [
    {
     "name": "stdout",
     "output_type": "stream",
     "text": [
      "Attempting to connect to: USB0::0x2A8D::0x1766::MY56311274::INSTR\n",
      "Connected to :\n",
      "        Brand : KEYSIGHT TECHNOLOGIES\n",
      "        Model : DSO-X 3024T\n",
      "Serial/Number : MY56311274,  07.20.2017102614\n",
      "\n",
      "Setting Timebase Scale to: 1.00e-07 s/div.\n",
      "\n",
      "Oscilloscope configured. Waiting for trigger for single acquisition...\n",
      "Waiting for acquisition to complete...\n",
      "Single acquisition complete. Oscilloscope is stopped and holding data.\n",
      "\n",
      "  Extracting data from CHANnel1...\n",
      "    Preamble for CHANnel1: ['+1', '+0', '+2500', '+1', '+4.00000000E-010', '-5.00000000E-007', '+0', '+7.85175900E-004', '+0.0E+000', '+32768\\n']\n",
      "    Actual Acq: N_pts=2500, Xinc=4.00e-10s, Yinc=7.85e-04V\n",
      "                Xorig=-5.00e-07, Yorig=0.00e+00\n",
      "    Raw data points extracted from CHANnel1: 2500\n",
      "\n",
      "  Extracting data from CHANnel2...\n",
      "    Preamble for CHANnel2: ['+1', '+0', '+2500', '+1', '+4.00000000E-010', '-5.00000000E-007', '+0', '+7.85175900E-004', '+0.0E+000', '+32768\\n']\n",
      "    Actual Acq: N_pts=2500, Xinc=4.00e-10s, Yinc=7.85e-04V\n",
      "                Xorig=-5.00e-07, Yorig=0.00e+00\n",
      "    Raw data points extracted from CHANnel2: 2500\n",
      "\n",
      "  Extracting data from CHANnel3...\n",
      "    Preamble for CHANnel3: ['+1', '+0', '+2500', '+1', '+4.00000000E-010', '-5.00000000E-007', '+0', '+7.85175900E-004', '+0.0E+000', '+32768\\n']\n",
      "    Actual Acq: N_pts=2500, Xinc=4.00e-10s, Yinc=7.85e-04V\n",
      "                Xorig=-5.00e-07, Yorig=0.00e+00\n",
      "    Raw data points extracted from CHANnel3: 2500\n",
      "\n",
      "Connection closed.\n"
     ]
    },
    {
     "data": {
      "text/plain": [
       "<matplotlib.legend.Legend at 0x1e18ce14f20>"
      ]
     },
     "execution_count": 464,
     "metadata": {},
     "output_type": "execute_result"
    },
    {
     "data": {
      "image/png": "[encoded data removed]",
      "text/plain": [
       "<Figure size 640x480 with 1 Axes>"
      ]
     },
     "metadata": {},
     "output_type": "display_data"
    }
   ],
   "source": [
    "DATA = acq_data(USB_resource, timebase_scale=100e-9, datatype=\"16bit\")\n",
    "\n",
    "fig, ax = plt.subplots()\n",
    "COLORS = [\"y\", \"g\", \"b\"]\n",
    "for i in range(1, 4):\n",
    "    channel = DATA[f\"CHANnel{i}\"]\n",
    "    t = channel[\"times\"]\n",
    "    vol = channel[\"voltages\"]\n",
    "    ax.plot(t, vol, linewidth=0.9, label=f\"CHAN-{i}\", color=COLORS[i-1])\n",
    "    \n",
    "ax.legend()\n",
    "# ax.set(xlim=(-50e-9, 50e-9))"
   ]
  },
  {
   "cell_type": "code",
   "execution_count": 408,
   "id": "9063d4cb",
   "metadata": {},
   "outputs": [
    {
     "name": "stdout",
     "output_type": "stream",
     "text": [
      "\n",
      "Successfully extracted data to NumPy array of shape: (62500, 4)\n"
     ]
    }
   ],
   "source": [
    "def extract_to_numpy_array(acquired_data: dict, channel_order: list = None) -> np.ndarray:\n",
    "    \"\"\"\n",
    "    Extracts time and voltage data from the acquired_data dictionary and\n",
    "    formats it into a single NumPy array of shape (N, M+1), where M is the\n",
    "    number of channels.\n",
    "\n",
    "    The first column is Time (s), followed by voltages from the specified channels.\n",
    "    Assumes that channels within acquired_data are time-synchronized.\n",
    "\n",
    "    Args:\n",
    "        acquired_data (dict): The dictionary returned by acq_data.\n",
    "        channel_order (list, optional): A list of channel names defining the order\n",
    "                                        of voltage columns in the output array.\n",
    "                                        Defaults to ['CHANnel1', 'CHANnel2', 'CHANnel3'].\n",
    "\n",
    "    Returns:\n",
    "        np.ndarray: A 2D NumPy array of shape (N, M+1) with the combined data.\n",
    "                    Returns None if data is inconsistent or missing.\n",
    "    \"\"\"\n",
    "    if not acquired_data:\n",
    "        print(\"Error: acquired_data dictionary is empty. No data to process.\")\n",
    "        return None\n",
    "\n",
    "    if channel_order is None:\n",
    "        channel_order = ['CHANnel1', 'CHANnel2', 'CHANnel3'] \n",
    "    \n",
    "    # Check if all required channels are present and have 'voltages' and 'times'\n",
    "    for ch in channel_order:\n",
    "        if ch not in acquired_data or 'voltages' not in acquired_data[ch] or 'times' not in acquired_data[ch]:\n",
    "            print(f\"Error: Missing or incomplete data for {ch} in acquired_data.\")\n",
    "            return None\n",
    "\n",
    "    # Get the time array from the first channel (all channels share the same timebase in a single shot)\n",
    "    time_array = acquired_data[channel_order[0]]['times']\n",
    "    N = len(time_array)\n",
    "\n",
    "    # Verify consistent number of points across all channels (should be true for single shot)\n",
    "    for ch in channel_order:\n",
    "        if len(acquired_data[ch]['voltages']) != N:\n",
    "            print(f\"Error: Inconsistent number of data points. {ch} has {len(acquired_data[ch]['voltages'])} points, expected {N}.\")\n",
    "            return None\n",
    "\n",
    "    # Extract voltage arrays in the desired order\n",
    "    voltage_columns = [acquired_data[ch]['voltages'] for ch in channel_order]\n",
    "\n",
    "    # Stack the time array and voltage columns into a (N, M+1) NumPy array\n",
    "    combined_data_array = np.column_stack((time_array, *voltage_columns))\n",
    "\n",
    "    print(f\"\\nSuccessfully extracted data to NumPy array of shape: {combined_data_array.shape}\")\n",
    "    return combined_data_array\n",
    "\n",
    "data = extract_to_numpy_array(test)"
   ]
  },
  {
   "cell_type": "code",
   "execution_count": 409,
   "id": "11cffd20",
   "metadata": {},
   "outputs": [
    {
     "name": "stdout",
     "output_type": "stream",
     "text": [
      "[[-0.000 -51.628 -0.201 -0.432]\n",
      " [-0.000 -51.628 -0.402 -0.432]\n",
      " [-0.000 -51.829 -0.402 -0.231]\n",
      " [-0.000 -51.628 -0.201 -0.231]\n",
      " [-0.000 -51.628 -0.402 -0.231]\n",
      " [-0.000 -51.628 -0.402 -0.231]\n",
      " [-0.000 -51.829 -0.201 -0.432]\n",
      " [-0.000 -51.628 -0.402 -0.231]\n",
      " [-0.000 -51.427 -0.402 -0.231]\n",
      " [-0.000 -51.829 -0.402 -0.231]\n",
      " [-0.000 -51.628 -0.402 -0.231]\n",
      " [-0.000 -51.628 -0.402 -0.231]\n",
      " [-0.000 -51.628 -0.603 -0.432]\n",
      " [-0.000 -51.628 -0.402 -0.432]\n",
      " [-0.000 -51.628 -0.402 -0.231]\n",
      " [-0.000 -51.427 -0.201 -0.432]\n",
      " [-0.000 -51.628 -0.201 -0.231]\n",
      " [-0.000 -51.628 -0.402 -0.432]\n",
      " [-0.000 -51.628 -0.402 -0.432]\n",
      " [-0.000 -51.829 -0.402 -0.432]]\n"
     ]
    }
   ],
   "source": [
    "with np.printoptions(formatter={\"all\": lambda x: f\"{x:.3f}\"}):\n",
    "    print(data[:20, :])"
   ]
  },
  {
   "cell_type": "code",
   "execution_count": 410,
   "id": "3204132f",
   "metadata": {},
   "outputs": [
    {
     "data": {
      "text/plain": [
       "<matplotlib.legend.Legend at 0x1e18d146270>"
      ]
     },
     "execution_count": 410,
     "metadata": {},
     "output_type": "execute_result"
    },
    {
     "data": {
      "image/png": "[encoded data removed]",
      "text/plain": [
       "<Figure size 1600x600 with 1 Axes>"
      ]
     },
     "metadata": {},
     "output_type": "display_data"
    }
   ],
   "source": [
    "fig, ax = plt.subplots(figsize=(16,6))\n",
    "\n",
    "for i in range(1,4):\n",
    "    ax.plot(data[:, 0], data[:, i], label=f\"CHAN-{i}\", linewidth=1)\n",
    "ax.legend()"
   ]
  },
  {
   "cell_type": "code",
   "execution_count": 13,
   "id": "24290f95",
   "metadata": {},
   "outputs": [
    {
     "ename": "VisaIOError",
     "evalue": "VI_ERROR_RSRC_NFOUND (-1073807343): Insufficient location information or the requested device or resource is not present in the system.",
     "output_type": "error",
     "traceback": [
      "\u001b[31m---------------------------------------------------------------------------\u001b[39m",
      "\u001b[31mVisaIOError\u001b[39m                               Traceback (most recent call last)",
      "\u001b[36mCell\u001b[39m\u001b[36m \u001b[39m\u001b[32mIn[13]\u001b[39m\u001b[32m, line 4\u001b[39m\n\u001b[32m      1\u001b[39m \u001b[38;5;28;01mfor\u001b[39;00m i \u001b[38;5;129;01min\u001b[39;00m \u001b[38;5;28mrange\u001b[39m(\u001b[32m25\u001b[39m):\n\u001b[32m      2\u001b[39m     \u001b[38;5;66;03m# Connect to instrument\u001b[39;00m\n\u001b[32m      3\u001b[39m     rm = pyvisa.ResourceManager()\n\u001b[32m----> \u001b[39m\u001b[32m4\u001b[39m     scope = rm.open_resource(\u001b[33m'\u001b[39m\u001b[33mUSB0::0x2A8D::0x1766::MY56311264::INSTR\u001b[39m\u001b[33m'\u001b[39m)  \u001b[38;5;66;03m# Replace with your VISA address\u001b[39;00m\n\u001b[32m      5\u001b[39m     scope.timeout = \u001b[32m5000\u001b[39m  \u001b[38;5;66;03m# Timeout in ms\u001b[39;00m\n\u001b[32m      6\u001b[39m     scope.write(\u001b[33m\"\u001b[39m\u001b[33m:TIMebase:RANGe 1\u001b[39m\u001b[33m\"\u001b[39m) \n",
      "\u001b[36mFile \u001b[39m\u001b[32mc:\\Users\\basti\\anaconda3\\envs\\lab\\Lib\\site-packages\\pyvisa\\highlevel.py:3293\u001b[39m, in \u001b[36mResourceManager.open_resource\u001b[39m\u001b[34m(self, resource_name, access_mode, open_timeout, resource_pyclass, **kwargs)\u001b[39m\n\u001b[32m   3287\u001b[39m     \u001b[38;5;28;01mif\u001b[39;00m \u001b[38;5;129;01mnot\u001b[39;00m present:\n\u001b[32m   3288\u001b[39m         \u001b[38;5;28;01mraise\u001b[39;00m \u001b[38;5;167;01mValueError\u001b[39;00m(\n\u001b[32m   3289\u001b[39m             \u001b[33m\"\u001b[39m\u001b[38;5;132;01m%r\u001b[39;00m\u001b[33m is not a valid attribute for type \u001b[39m\u001b[38;5;132;01m%s\u001b[39;00m\u001b[33m\"\u001b[39m\n\u001b[32m   3290\u001b[39m             % (key, res.\u001b[34m__class__\u001b[39m.\u001b[34m__name__\u001b[39m)\n\u001b[32m   3291\u001b[39m         )\n\u001b[32m-> \u001b[39m\u001b[32m3293\u001b[39m res.open(access_mode, open_timeout)\n\u001b[32m   3295\u001b[39m \u001b[38;5;28;01mfor\u001b[39;00m key, value \u001b[38;5;129;01min\u001b[39;00m kwargs.items():\n\u001b[32m   3296\u001b[39m     \u001b[38;5;28msetattr\u001b[39m(res, key, value)\n",
      "\u001b[36mFile \u001b[39m\u001b[32mc:\\Users\\basti\\anaconda3\\envs\\lab\\Lib\\site-packages\\pyvisa\\resources\\resource.py:282\u001b[39m, in \u001b[36mResource.open\u001b[39m\u001b[34m(self, access_mode, open_timeout)\u001b[39m\n\u001b[32m    278\u001b[39m logger.debug(\u001b[33m\"\u001b[39m\u001b[38;5;132;01m%s\u001b[39;00m\u001b[33m - opening ...\u001b[39m\u001b[33m\"\u001b[39m, \u001b[38;5;28mself\u001b[39m._resource_name, extra=\u001b[38;5;28mself\u001b[39m._logging_extra)\n\u001b[32m    279\u001b[39m \u001b[38;5;28;01mwith\u001b[39;00m \u001b[38;5;28mself\u001b[39m._resource_manager.ignore_warning(\n\u001b[32m    280\u001b[39m     constants.StatusCode.success_device_not_present\n\u001b[32m    281\u001b[39m ):\n\u001b[32m--> \u001b[39m\u001b[32m282\u001b[39m     \u001b[38;5;28mself\u001b[39m.session, status = \u001b[38;5;28mself\u001b[39m._resource_manager.open_bare_resource(\n\u001b[32m    283\u001b[39m         \u001b[38;5;28mself\u001b[39m._resource_name, access_mode, open_timeout\n\u001b[32m    284\u001b[39m     )\n\u001b[32m    286\u001b[39m     \u001b[38;5;28;01mif\u001b[39;00m status == constants.StatusCode.success_device_not_present:\n\u001b[32m    287\u001b[39m         \u001b[38;5;66;03m# The device was not ready when we opened the session.\u001b[39;00m\n\u001b[32m    288\u001b[39m         \u001b[38;5;66;03m# Now it gets five seconds more to become ready.\u001b[39;00m\n\u001b[32m    289\u001b[39m         \u001b[38;5;66;03m# Every 0.1 seconds we probe it with viClear.\u001b[39;00m\n\u001b[32m    290\u001b[39m         start_time = time.time()\n",
      "\u001b[36mFile \u001b[39m\u001b[32mc:\\Users\\basti\\anaconda3\\envs\\lab\\Lib\\site-packages\\pyvisa\\highlevel.py:3218\u001b[39m, in \u001b[36mResourceManager.open_bare_resource\u001b[39m\u001b[34m(self, resource_name, access_mode, open_timeout)\u001b[39m\n\u001b[32m   3189\u001b[39m \u001b[38;5;28;01mdef\u001b[39;00m\u001b[38;5;250m \u001b[39m\u001b[34mopen_bare_resource\u001b[39m(\n\u001b[32m   3190\u001b[39m     \u001b[38;5;28mself\u001b[39m,\n\u001b[32m   3191\u001b[39m     resource_name: \u001b[38;5;28mstr\u001b[39m,\n\u001b[32m   3192\u001b[39m     access_mode: constants.AccessModes = constants.AccessModes.no_lock,\n\u001b[32m   3193\u001b[39m     open_timeout: \u001b[38;5;28mint\u001b[39m = constants.VI_TMO_IMMEDIATE,\n\u001b[32m   3194\u001b[39m ) -> Tuple[VISASession, StatusCode]:\n\u001b[32m   3195\u001b[39m \u001b[38;5;250m    \u001b[39m\u001b[33;03m\"\"\"Open the specified resource without wrapping into a class.\u001b[39;00m\n\u001b[32m   3196\u001b[39m \n\u001b[32m   3197\u001b[39m \u001b[33;03m    Parameters\u001b[39;00m\n\u001b[32m   (...)\u001b[39m\u001b[32m   3216\u001b[39m \n\u001b[32m   3217\u001b[39m \u001b[33;03m    \"\"\"\u001b[39;00m\n\u001b[32m-> \u001b[39m\u001b[32m3218\u001b[39m     \u001b[38;5;28;01mreturn\u001b[39;00m \u001b[38;5;28mself\u001b[39m.visalib.open(\u001b[38;5;28mself\u001b[39m.session, resource_name, access_mode, open_timeout)\n",
      "\u001b[36mFile \u001b[39m\u001b[32mc:\\Users\\basti\\anaconda3\\envs\\lab\\Lib\\site-packages\\pyvisa\\ctwrapper\\functions.py:1853\u001b[39m, in \u001b[36mopen\u001b[39m\u001b[34m(library, session, resource_name, access_mode, open_timeout)\u001b[39m\n\u001b[32m   1849\u001b[39m out_session = ViSession()\n\u001b[32m   1851\u001b[39m \u001b[38;5;66;03m# [ViSession, ViRsrc, ViAccessMode, ViUInt32, ViPSession]\u001b[39;00m\n\u001b[32m   1852\u001b[39m \u001b[38;5;66;03m# ViRsrc converts from (str, unicode, bytes) to bytes\u001b[39;00m\n\u001b[32m-> \u001b[39m\u001b[32m1853\u001b[39m ret = library.viOpen(\n\u001b[32m   1854\u001b[39m     session, resource_name, access_mode, open_timeout, byref(out_session)\n\u001b[32m   1855\u001b[39m )\n\u001b[32m   1856\u001b[39m \u001b[38;5;28;01mreturn\u001b[39;00m out_session.value, ret\n",
      "\u001b[36mFile \u001b[39m\u001b[32mc:\\Users\\basti\\anaconda3\\envs\\lab\\Lib\\site-packages\\pyvisa\\ctwrapper\\highlevel.py:227\u001b[39m, in \u001b[36mIVIVisaLibrary._return_handler\u001b[39m\u001b[34m(self, ret_value, func, arguments)\u001b[39m\n\u001b[32m    224\u001b[39m         \u001b[38;5;66;03m# Set session back to a safe value\u001b[39;00m\n\u001b[32m    225\u001b[39m         session = \u001b[38;5;28;01mNone\u001b[39;00m\n\u001b[32m--> \u001b[39m\u001b[32m227\u001b[39m \u001b[38;5;28;01mreturn\u001b[39;00m \u001b[38;5;28mself\u001b[39m.handle_return_value(session, ret_value)\n",
      "\u001b[36mFile \u001b[39m\u001b[32mc:\\Users\\basti\\anaconda3\\envs\\lab\\Lib\\site-packages\\pyvisa\\highlevel.py:252\u001b[39m, in \u001b[36mVisaLibraryBase.handle_return_value\u001b[39m\u001b[34m(self, session, status_code)\u001b[39m\n\u001b[32m    249\u001b[39m     \u001b[38;5;28mself\u001b[39m._last_status_in_session[session] = rv\n\u001b[32m    251\u001b[39m \u001b[38;5;28;01mif\u001b[39;00m rv < \u001b[32m0\u001b[39m:\n\u001b[32m--> \u001b[39m\u001b[32m252\u001b[39m     \u001b[38;5;28;01mraise\u001b[39;00m errors.VisaIOError(rv)\n\u001b[32m    254\u001b[39m \u001b[38;5;28;01mif\u001b[39;00m rv \u001b[38;5;129;01min\u001b[39;00m \u001b[38;5;28mself\u001b[39m.issue_warning_on:\n\u001b[32m    255\u001b[39m     \u001b[38;5;28;01mif\u001b[39;00m session \u001b[38;5;129;01mand\u001b[39;00m rv \u001b[38;5;129;01mnot\u001b[39;00m \u001b[38;5;129;01min\u001b[39;00m \u001b[38;5;28mself\u001b[39m._ignore_warning_in_session[session]:\n",
      "\u001b[31mVisaIOError\u001b[39m: VI_ERROR_RSRC_NFOUND (-1073807343): Insufficient location information or the requested device or resource is not present in the system."
     ]
    }
   ],
   "source": [
    "# for i in range(25):\n",
    "#     # Connect to instrument\n",
    "#     rm = pyvisa.ResourceManager()\n",
    "#     scope = rm.open_resource('USB0::0x2A8D::0x1766::MY56311264::INSTR')  # Replace with your VISA address\n",
    "#     scope.timeout = 5000  # Timeout in ms\n",
    "#     scope.write(\":TIMebase:RANGe 1\") \n",
    "    \n",
    "    \n",
    "#     # Set acquisition mode to single\n",
    "#     scope.write(\":STOP\")               # Make sure scope is stopped\n",
    "#     scope.write(\":SINGle\")             # Run a single acquisition\n",
    "#     time.sleep(0.2)                    # Wait briefly to ensure trigger\n",
    "    \n",
    "#     # Wait until acquisition is complete\n",
    "#     while True:\n",
    "#         done = scope.query(\":OPER:COND?\").strip()\n",
    "#         if int(done) & 0b1 == 0:       # Bit 0 = acquisition in progress\n",
    "#             break\n",
    "#         time.sleep(0.05)\n",
    "    \n",
    "#     # Set common waveform settings\n",
    "#     scope.write(\":WAV:MODE NORM\")\n",
    "#     scope.write(\":WAV:FORM BYTE\")\n",
    "#     points = 1000000\n",
    "#     scope.write(f\":WAV:POINTS {int(points)}\")      # Set number of points\n",
    "    \n",
    "#     # Acquire data from Channel 1\n",
    "#     scope.write(\":WAV:SOUR CHAN1\")\n",
    "#     raw_data1 = scope.query_binary_values(\":WAV:DATA?\", datatype='B', container=np.array)\n",
    "    \n",
    "#     # Acquire data from Channel 2\n",
    "#     scope.write(\":WAV:SOUR CHAN2\")\n",
    "#     raw_data2 = scope.query_binary_values(\":WAV:DATA?\", datatype='B', container=np.array)\n",
    "    \n",
    "#     # Convert raw data to voltage using preamble\n",
    "#     x_increment = float(pre[4])\n",
    "#     x_origin = float(pre[5])\n",
    "#     y_increment = float(pre[7])\n",
    "#     y_origin = float(pre[8])\n",
    "#     y_ref = float(pre[9])\n",
    "    \n",
    "#     t = np.arange(len(raw_data1)) * x_increment + x_origin\n",
    "#     voltage1 = (raw_data1 - y_ref) * y_increment + y_origin\n",
    "#     voltage2 = (raw_data2 - y_ref) * y_increment + y_origin\n",
    "    \n",
    "#     # Simulated pulses on two channels (replace with actual data)\n",
    "#     ch1 = voltage1\n",
    "#     ch2 = voltage2\n",
    "    \n",
    "    \n",
    "#     # Detect pulses using a threshold\n",
    "#     threshold = 1.1\n",
    "    \n",
    "#     peaks1, properties1 = find_peaks(ch1, height=threshold)\n",
    "#     peaks2, properties2 = find_peaks(ch2, height=threshold)\n",
    "    \n",
    "#     # Extract times of peaks\n",
    "#     times1 = t[peaks1]\n",
    "#     times2 = t[peaks2]\n",
    "    \n",
    "#     # Define coincidence window (±10 ns)\n",
    "#     coincidence_window = 10e-9\n",
    "    \n",
    "#     # Compare each time in ch1 with ch2 to find coincidences\n",
    "#     coincidences = []\n",
    "#     for t1 in times1:\n",
    "#         for t2 in times2:\n",
    "#             if abs(t1 - t2) <= coincidence_window:\n",
    "#                 coincidences.append((t1, t2))\n",
    "    \n",
    "#     print(\"Coincidence count:\", len(coincidences))\n",
    "    \n",
    "#     # Add the coincidence count to the DataFrame\n",
    "#     df.loc[len(df)] = [pol_A, qwp_a, pol_b, qwp_b, len(coincidences)]\n"
   ]
  },
  {
   "cell_type": "code",
   "execution_count": null,
   "id": "2b7f318a",
   "metadata": {},
   "outputs": [],
   "source": []
  }
 ],
 "metadata": {
  "kernelspec": {
   "display_name": "lab",
   "language": "python",
   "name": "python3"
  },
  "language_info": {
   "codemirror_mode": {
    "name": "ipython",
    "version": 3
   },
   "file_extension": ".py",
   "mimetype": "text/x-python",
   "name": "python",
   "nbconvert_exporter": "python",
   "pygments_lexer": "ipython3",
   "version": "3.12.11"
  }
 },
 "nbformat": 4,
 "nbformat_minor": 5
}
